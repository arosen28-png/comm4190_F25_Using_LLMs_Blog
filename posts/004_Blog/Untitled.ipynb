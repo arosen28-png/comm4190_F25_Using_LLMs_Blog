{
 "cells": [
  {
   "cell_type": "raw",
   "id": "df5b4509-39af-49bf-9c2f-b301f00013c0",
   "metadata": {},
   "source": [
    "---\n",
    "title: \"Image Generation with ChatGPT\"\n",
    "date: 2025-09-07\n",
    "author: \"Alex Rosen\"\n",
    "categories:\n",
    "   - LLMs\n",
    "   - Image Generation\n",
    "---"
   ]
  },
  {
   "cell_type": "raw",
   "id": "076a9dd5-863e-4881-9d7b-6f868459b17f",
   "metadata": {},
   "source": [
    "# Generating Images with ChatGPT\n",
    "\n",
    "For this experiment, I tested how an LLM with image-generation can create different visuals from slightly different prompts.\n",
    "\n",
    "Prompt A: \"Generate an image of a cat sitting on a couch.\"  \n",
    "Prompt B: \"Generate an image of a cat lounging on a couch with sunglasses.\"  \n",
    "\n",
    "The first result was a standard realistic-looking cat image.  \n",
    "The second result added humor and personality, showing a playful cat with sunglasses.  \n",
    "\n",
    "This shows that small wording changes don’t just shift text output, but also the *visual style* of generated images. It highlights how careful prompt wording can make the difference between a generic picture and something more creative or entertaining.\n"
   ]
  },
  {
   "cell_type": "markdown",
   "id": "c797b141-8b87-43df-acd7-f87e96343784",
   "metadata": {},
   "source": [
    "![Prompt A: Cat sitting on a couch](cat1.png){fig-cap=\"Prompt A: Cat sitting on a couch\" width=60%}\n",
    "\n",
    "![Prompt B: Cat lounging with sunglasses](cat2.png){fig-cap=\"Prompt B: Cat lounging with sunglasses\" width=60%}\n"
   ]
  },
  {
   "cell_type": "code",
   "execution_count": null,
   "id": "f803c942-bd06-4817-9847-85130a5cefe3",
   "metadata": {},
   "outputs": [],
   "source": []
  }
 ],
 "metadata": {
  "kernelspec": {
   "display_name": "Python 3 (ipykernel)",
   "language": "python",
   "name": "python3"
  },
  "language_info": {
   "codemirror_mode": {
    "name": "ipython",
    "version": 3
   },
   "file_extension": ".py",
   "mimetype": "text/x-python",
   "name": "python",
   "nbconvert_exporter": "python",
   "pygments_lexer": "ipython3",
   "version": "3.10.12"
  }
 },
 "nbformat": 4,
 "nbformat_minor": 5
}
