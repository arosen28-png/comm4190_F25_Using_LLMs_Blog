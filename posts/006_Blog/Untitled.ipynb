{
 "cells": [
  {
   "cell_type": "raw",
   "id": "e96c82f4-6143-428e-8b2e-30907f39d9ce",
   "metadata": {},
   "source": [
    "---\n",
    "title: \"Using LLMs to Write Emails\"\n",
    "author: \"Alex Rosen\"\n",
    "date: \"September 19, 2025\"\n",
    "categories:\n",
    "    - llms\n",
    "    - studying\n",
    "    - university\n",
    "---"
   ]
  },
  {
   "cell_type": "raw",
   "id": "c937b338-fef1-44d3-b300-2abbcbd9d9b9",
   "metadata": {},
   "source": [
    "---\n",
    "title: \"Cleaning Up Messy Notes with GPT\"\n",
    "author: \"Alex Rosen\"\n",
    "date: \"September 19, 2025\"\n",
    "categories:\n",
    "    - llms\n",
    "    - studying\n",
    "---\n",
    "<h1 style=\"color: #96174e\">\n",
    "    Displaying LLM Outputs\n",
    "</h1>\n",
    "<h4 style=\"color:#0707ff\">\n",
    "    The Image\n",
    "</h4>\n",
    "![Sample output](note.png)\n",
    "<h4 style=\"color:#0707ff\">\n",
    "    The Copy Paste\n",
    "</h4>\n",
    "Here’s an example of ChatGPT rewriting messy lecture notes\n",
    "\n",
    "---\n",
    "\n",
    "### **The Organized Notes**\n",
    "\n",
    "In class this week my notes came out really messy. Lots of half-sentences and random words. I wanted to see if GPT-5 could make them clearer, so I asked:\n",
    "\n",
    "**“Rewrite these notes into a clean bullet point list.”**\n",
    "\n",
    "It worked well — the output grouped ideas into *Definitions, Formulas,* and *Examples.* It was much easier to study from than my original scribbles.\n",
    "\n",
    "---\n",
    "\n",
    "<h1 style=\"color: #96174e\">\n",
    "    Combination of both!\n",
    "</h1>\n",
    "\n",
    "**Prompt**\n",
    "<div style=\"background-color: #f8f8f8; padding: 10px; border-radius: 8px;\">\n",
    "    <blockquote>\n",
    "        Rewrite my messy class notes into a clear bullet point list\n",
    "    </blockquote>\n",
    "</div>\n",
    "\n",
    "**Response**\n",
    "<div style=\"background-color: #f0f8ff; padding: 10px; border-radius: 8px;\">\n",
    "    <blockquote>\n",
    "        Sure! I’ve cleaned them up and organized them into sections.\n",
    "    </blockquote>\n",
    "</div>\n",
    "\n",
    "---\n",
    "<h1 style=\"color: #96174e\">\n",
    "    Reflection\n",
    "</h1>\n",
    "This showed me how useful GPT can be for **studying**. It doesn’t just fix grammar — it makes notes more structured and organized. I’d still double-check details, but as a study helper it really saves time.\n"
   ]
  },
  {
   "cell_type": "code",
   "execution_count": null,
   "id": "bbc22d53-6a85-498c-8180-f27ba70e2fdd",
   "metadata": {},
   "outputs": [],
   "source": []
  }
 ],
 "metadata": {
  "kernelspec": {
   "display_name": "Python 3 (ipykernel)",
   "language": "python",
   "name": "python3"
  },
  "language_info": {
   "codemirror_mode": {
    "name": "ipython",
    "version": 3
   },
   "file_extension": ".py",
   "mimetype": "text/x-python",
   "name": "python",
   "nbconvert_exporter": "python",
   "pygments_lexer": "ipython3",
   "version": "3.10.12"
  }
 },
 "nbformat": 4,
 "nbformat_minor": 5
}
