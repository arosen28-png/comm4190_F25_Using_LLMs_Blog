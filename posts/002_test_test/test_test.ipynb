{
 "cells": [
  {
   "cell_type": "raw",
   "id": "6f96dad6-fb5f-4867-bbd4-5a26c4d623d6",
   "metadata": {},
   "source": [
    "```\n",
    "---\n",
    "title: \"Emma's Test\"\n",
    "description: \"Testing Blogging\" \n",
    "author: \"Emma\"\n",
    "date: \"2/1/2025\"\n",
    "categories:\n",
    "  - LLMs\n",
    "  - Learning\n",
    "---\n",
    "```"
   ]
  },
  {
   "cell_type": "code",
   "execution_count": null,
   "id": "759d06a3-b933-4a3b-8b06-db7682532b5e",
   "metadata": {},
   "outputs": [],
   "source": []
  }
 ],
 "metadata": {
  "kernelspec": {
   "display_name": "Python 3-12 (COMM4190)",
   "language": "python",
   "name": "python3-12_comm4190"
  },
  "language_info": {
   "codemirror_mode": {
    "name": "ipython",
    "version": 3
   },
   "file_extension": ".py",
   "mimetype": "text/x-python",
   "name": "python",
   "nbconvert_exporter": "python",
   "pygments_lexer": "ipython3",
   "version": "3.12.11"
  }
 },
 "nbformat": 4,
 "nbformat_minor": 5
}
