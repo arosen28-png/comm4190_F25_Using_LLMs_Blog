{
 "cells": [
  {
   "cell_type": "raw",
   "id": "c4a3a1b9-b779-4475-8567-9fb56104069c",
   "metadata": {},
   "source": [
    "# Sports Prompts and Response Sensitivity\n",
    "\n",
    "For my first test, I wanted to see how small changes in prompts affect how an LLM talks about sports. I used the Philadelphia Eagles as my subject.\n",
    "\n",
    "Prompt A: \"Summarize the Eagles' 2023 season in one sentence.\"  \n",
    "Prompt B: \"Summarize the Eagles' 2023 season in five bullet points.\"  \n",
    "\n",
    "The one-sentence answer gave a broad evaluation: \"The Eagles had a strong season but fell short in the playoffs.\"  \n",
    "The five-bullet version highlighted key details: regular season record, standout players, offensive strengths, defensive weaknesses, and the playoff loss.\n",
    "\n",
    "What stood out is that the structure of the output wasn’t just shorter or longer, the bullet-point response reorganized the story. This shows that prompt phrasing shapes how an LLM frames sports narratives, which is important if you’re using these models for sports journalism or fan engagement.\n"
   ]
  },
  {
   "cell_type": "code",
   "execution_count": null,
   "id": "bd0cfdf4-73ef-474a-9b69-7fac722fdc50",
   "metadata": {},
   "outputs": [],
   "source": []
  }
 ],
 "metadata": {
  "kernelspec": {
   "display_name": "",
   "name": ""
  },
  "language_info": {
   "name": ""
  }
 },
 "nbformat": 4,
 "nbformat_minor": 5
}
