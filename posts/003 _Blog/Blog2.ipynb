{
 "cells": [
  {
   "cell_type": "raw",
   "id": "018f4f38-53d8-4991-bbe3-2a8e0f72aa33",
   "metadata": {},
   "source": [
    "---\n",
    "title: \"Sports Prompts and Response Sensitivity\"\n",
    "date: 2025-09-07\n",
    "author: \"Alex Rosen\"\n",
    "categories:\n",
    "   - LLMs\n",
    "   - sports\n",
    "   - football\n",
    "---"
   ]
  },
  {
   "cell_type": "markdown",
   "id": "c0625126-3a29-4122-aa65-7a03c25b4282",
   "metadata": {},
   "source": [
    "### Prompting \n",
    "\n",
    "For my first test, I wanted to see how small changes in prompts affect how an LLM talks about sports. I used the Philadelphia Eagles as my subject.\n",
    "\n",
    "> Prompt A: \"Summarize the Eagles' 2023 season in one sentence.\"  \n",
    "\n",
    "The one-sentence answer gave a broad evaluation: \"The Eagles had a strong season but fell short in the playoffs.\" \n",
    "\n",
    "> Prompt B: \"Summarize the Eagles' 2023 season in five bullet points.\"  \n",
    "\n",
    "The five-bullet version highlighted key details: \n",
    "\n",
    "- regular season record\n",
    "- standout players\n",
    "- offensive strengths\n",
    "- defensive weaknesses\n",
    "- playoff loss\n",
    "\n",
    "\n",
    "### Observations\n",
    "\n",
    "What stood out is that the structure of the output wasn’t just shorter or longer, the bullet-point response reorganized the story. This shows that prompt phrasing shapes how an LLM frames sports narratives, which is important if you’re using these models for sports journalism or fan engagement.\n"
   ]
  },
  {
   "cell_type": "code",
   "execution_count": null,
   "id": "bd0cfdf4-73ef-474a-9b69-7fac722fdc50",
   "metadata": {},
   "outputs": [],
   "source": []
  }
 ],
 "metadata": {
  "kernelspec": {
   "display_name": "Python 3 (ipykernel)",
   "language": "python",
   "name": "python3"
  },
  "language_info": {
   "codemirror_mode": {
    "name": "ipython",
    "version": 3
   },
   "file_extension": ".py",
   "mimetype": "text/x-python",
   "name": "python",
   "nbconvert_exporter": "python",
   "pygments_lexer": "ipython3",
   "version": "3.10.12"
  }
 },
 "nbformat": 4,
 "nbformat_minor": 5
}
